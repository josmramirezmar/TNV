{
 "cells": [
  {
   "cell_type": "markdown",
   "metadata": {},
   "source": [
    "# Cuaderno de pruebas para tratamiento de formas de onda\n",
    "## IDENTIFICACION y LOCALIZACION de Tremors No Volcanicos (TNV) en el Valle Medio del Magdalena (VMM)\n",
    "## Curaduria de Sismicidad - Centro de Transparencia (CDT)\n",
    "### Autor: Jose Manuel Ramirez Martinez\n",
    "### Correo: josmramirezmar@unal.edu.co"
   ]
  },
  {
   "cell_type": "code",
   "execution_count": 2,
   "metadata": {},
   "outputs": [
    {
     "name": "stdout",
     "output_type": "stream",
     "text": [
      "Cargando librerias...\n",
      "Librerias cargadas en 7.0113465785980225 segundos.\n"
     ]
    }
   ],
   "source": [
    "# Declaracion de las librerias\n",
    "try: \n",
    "    import time\n",
    "    t=time.time()\n",
    "    print(\"Cargando librerias...\")\n",
    "    import os\n",
    "    import numpy as np\n",
    "    import pandas as pd\n",
    "    import matplotlib.pyplot as plt\n",
    "    import cartopy\n",
    "    from threading import Thread\n",
    "    import obspy\n",
    "    from obspy.clients.fdsn import Client as ClientF \n",
    "    from obspy import UTCDateTime,Stream,read_inventory\n",
    "    from obspy.signal.trigger import z_detect,plot_trigger\n",
    "    from xcorr import correlate_maxlag, correlate_template, get_lags\n",
    "    secs = time.time() - t\n",
    "    print(f\"Librerias cargadas en {secs} segundos.\")\n",
    "except Exception as e:\n",
    "    print(\"Error cargando una libreria:\", str(e))"
   ]
  },
  {
   "cell_type": "code",
   "execution_count": 3,
   "metadata": {},
   "outputs": [
    {
     "name": "stdout",
     "output_type": "stream",
     "text": [
      "Inventory created at 2022-06-10T14:53:49.638956Z\n",
      "\tCreated by: ObsPy 1.3.0\n",
      "\t\t    https://www.obspy.org\n",
      "\tSending institution: ObsPy's obspy.io.xseed version 1.3.0\n",
      "\tContains:\n",
      "\t\tNetworks (1):\n",
      "\t\t\tCM\n",
      "\t\tStations (11):\n",
      "\t\t\tCM.AGCC (Aguachica, Cesar, Colombia)\n",
      "\t\t\tCM.EZNC (La Esperanza, Norte de Santander, Colombia)\n",
      "\t\t\tCM.OCA (Ocana, Norte de Santander, Colombia)\n",
      "\t\t\tCM.PTB (Puerto Berrio, Antioquia, Colombia)\n",
      "\t\t\tCM.VMM05 (San Martin, Cesar, Colombia)\n",
      "\t\t\tCM.VMM07 (Puerto Wilches, Santander, Colombia)\n",
      "\t\t\tCM.VMM09 (Lebrija, Santander, Colombia)\n",
      "\t\t\tCM.VMM10 (El Carmen de Chucuri, Santander, Colombia)\n",
      "\t\t\tCM.VMM11 (Sabana de Torres, Santander)\n",
      "\t\t\tCM.VMM12 (Simiti,Bolivar)\n",
      "\t\t\tCM.ZAR (Zaragoza, Antioquia, Colombia)\n",
      "\t\tChannels (72):\n",
      "\t\t\tCM.AGCC.00.HHZ, CM.AGCC.00.HHN, CM.AGCC.00.HHE, CM.EZNC.00.HHZ (2x)\n",
      "\t\t\tCM.EZNC.00.HHN (2x), CM.EZNC.00.HHE (2x), CM.OCA.00.HHZ (3x), \n",
      "\t\t\tCM.OCA.00.HHN (3x), CM.OCA.00.HHE (3x), CM.OCA.10.HNZ (3x), \n",
      "\t\t\tCM.OCA.10.HNN (3x), CM.OCA.10.HNE (3x), CM.PTB.00.HHZ (5x), \n",
      "\t\t\tCM.PTB.00.HHN (5x), CM.PTB.00.HHE (5x), CM.PTB.10.HNZ, \n",
      "\t\t\tCM.PTB.10.HNN, CM.PTB.10.HNE, CM.VMM05.00.HHZ, CM.VMM05.00.HHN, \n",
      "\t\t\tCM.VMM05.00.HHE, CM.VMM07.00.HHZ, CM.VMM07.00.HHN, CM.VMM07.00.HHE\n",
      "\t\t\tCM.VMM09.00.HHZ, CM.VMM09.00.HHN, CM.VMM09.00.HHE, \n",
      "\t\t\tCM.VMM10.00.HHZ, CM.VMM10.00.HHN, CM.VMM10.00.HHE, CM.VMM11.00.HHZ\n",
      "\t\t\tCM.VMM11.00.HHN, CM.VMM11.00.HHE, CM.VMM12.00.HHZ, \n",
      "\t\t\tCM.VMM12.00.HHN, CM.VMM12.00.HHE, CM.ZAR.00.HHZ (3x), \n",
      "\t\t\tCM.ZAR.00.HHN (3x), CM.ZAR.00.HHE (3x)\n"
     ]
    }
   ],
   "source": [
    "# Lectura del Inventario\n",
    "inv = read_inventory(\"..\\\\archivo\\\\dataless\\\\CM.CDT.04.dataless\")\n",
    "inv = inv.select(channel=\"[HH]*\")\n",
    "print(inv)"
   ]
  },
  {
   "cell_type": "code",
   "execution_count": 4,
   "metadata": {},
   "outputs": [],
   "source": [
    "# Parametros Estaciones del Servicio Geologico Colombiano (SGC)\n",
    "clientCM = ClientF('http://sismo.sgc.gov.co:8080/')\n",
    "network = \"CM\"\n",
    "#stations = (\"CHI\",\"NOR\",\"ROSC\",\"RUS\",\"CVER\",\"VIL\",\"SJC\",\"ZAR\",\"PTB\",\"GUY2C\",\"SPBC\",\"AGCC\",\"EZNC\",\"VMM09\",\"VMM05\",\"VMM07\",\"VMM10\",\"LL8C\",\"VMM11\",\"VMM12\",\"OCA\",\"BRJC\")\n",
    "stations = (\"ZAR\",\"PTB\",\"AGCC\",\"EZNC\",\"VMM09\",\"VMM05\",\"VMM07\",\"VMM10\",\"VMM11\",\"VMM12\",\"OCA\")\n",
    "channels = (\"HHN\",\"HHE\",\"HHZ\")\n",
    "locIds = \"*\"\n",
    "dateStart = UTCDateTime(\"2022-06-01T00:00:00\")\n",
    "DateEnd = dateStart + (4*60)"
   ]
  },
  {
   "cell_type": "code",
   "execution_count": 5,
   "metadata": {},
   "outputs": [
    {
     "name": "stdout",
     "output_type": "stream",
     "text": [
      "Directorio g:\\Mi unidad\\RSUNAL\\TNV\\Python\\TNV\\TNVgit\\TNV\\cuadernos\\Resultados\\20220601T0000 existente.\n"
     ]
    }
   ],
   "source": [
    "# Directorio de resultados\n",
    "dirPath = os.getcwd()\n",
    "dirResultado = \"Resultados\\\\\" + dateStart.strftime(\"%Y%m%dT%H%M\")\n",
    "mseedName = network + \"_\" + dateStart.strftime(\"%Y-%m-%dT%H-%M\")\n",
    "dirMseed = os.path.join(dirPath, dirResultado, mseedName)\n",
    "dirFull = os.path.dirname(dirMseed)\n",
    "\n",
    "if not os.path.exists(dirFull):\n",
    "    os.makedirs(dirFull)\n",
    "    print(\"Creado el directorio \" + dirFull)\n",
    "else: \n",
    "    print(\"Directorio \" + dirFull + \" existente.\")"
   ]
  },
  {
   "cell_type": "code",
   "execution_count": 6,
   "metadata": {},
   "outputs": [
    {
     "name": "stdout",
     "output_type": "stream",
     "text": [
      "Error obteniendo el 2022-06-01T00:00 del canal HHN de la estacion AGCC: No data available for request.\n",
      "HTTP Status code: 204\n",
      "Detailed response of server:\n",
      "\n",
      "\n",
      "Error obteniendo el 2022-06-01T00:00 del canal HHE de la estacion AGCC: No data available for request.\n",
      "HTTP Status code: 204\n",
      "Detailed response of server:\n",
      "\n",
      "\n",
      "Error obteniendo el 2022-06-01T00:00 del canal HHZ de la estacion AGCC: No data available for request.\n",
      "HTTP Status code: 204\n",
      "Detailed response of server:\n",
      "\n",
      "\n",
      "Error obteniendo el 2022-06-01T00:00 del canal HHN de la estacion EZNC: No data available for request.\n",
      "HTTP Status code: 204\n",
      "Detailed response of server:\n",
      "\n",
      "\n",
      "Error obteniendo el 2022-06-01T00:00 del canal HHE de la estacion EZNC: No data available for request.\n",
      "HTTP Status code: 204\n",
      "Detailed response of server:\n",
      "\n",
      "\n",
      "Error obteniendo el 2022-06-01T00:00 del canal HHZ de la estacion EZNC: No data available for request.\n",
      "HTTP Status code: 204\n",
      "Detailed response of server:\n",
      "\n",
      "\n",
      "Error obteniendo el 2022-06-01T00:00 del canal HHN de la estacion VMM09: No data available for request.\n",
      "HTTP Status code: 204\n",
      "Detailed response of server:\n",
      "\n",
      "\n",
      "Error obteniendo el 2022-06-01T00:00 del canal HHE de la estacion VMM09: No data available for request.\n",
      "HTTP Status code: 204\n",
      "Detailed response of server:\n",
      "\n",
      "\n",
      "Error obteniendo el 2022-06-01T00:00 del canal HHZ de la estacion VMM09: No data available for request.\n",
      "HTTP Status code: 204\n",
      "Detailed response of server:\n",
      "\n",
      "\n",
      "Error obteniendo el 2022-06-01T00:00 del canal HHN de la estacion VMM05: No data available for request.\n",
      "HTTP Status code: 204\n",
      "Detailed response of server:\n",
      "\n",
      "\n",
      "Error obteniendo el 2022-06-01T00:00 del canal HHE de la estacion VMM05: No data available for request.\n",
      "HTTP Status code: 204\n",
      "Detailed response of server:\n",
      "\n",
      "\n",
      "Error obteniendo el 2022-06-01T00:00 del canal HHZ de la estacion VMM05: No data available for request.\n",
      "HTTP Status code: 204\n",
      "Detailed response of server:\n",
      "\n",
      "\n",
      "Error obteniendo el 2022-06-01T00:00 del canal HHN de la estacion VMM07: No data available for request.\n",
      "HTTP Status code: 204\n",
      "Detailed response of server:\n",
      "\n",
      "\n",
      "Error obteniendo el 2022-06-01T00:00 del canal HHE de la estacion VMM07: No data available for request.\n",
      "HTTP Status code: 204\n",
      "Detailed response of server:\n",
      "\n",
      "\n",
      "Error obteniendo el 2022-06-01T00:00 del canal HHZ de la estacion VMM07: No data available for request.\n",
      "HTTP Status code: 204\n",
      "Detailed response of server:\n",
      "\n",
      "\n",
      "Error obteniendo el 2022-06-01T00:00 del canal HHN de la estacion VMM10: No data available for request.\n",
      "HTTP Status code: 204\n",
      "Detailed response of server:\n",
      "\n",
      "\n",
      "Error obteniendo el 2022-06-01T00:00 del canal HHE de la estacion VMM10: No data available for request.\n",
      "HTTP Status code: 204\n",
      "Detailed response of server:\n",
      "\n",
      "\n",
      "Error obteniendo el 2022-06-01T00:00 del canal HHZ de la estacion VMM10: No data available for request.\n",
      "HTTP Status code: 204\n",
      "Detailed response of server:\n",
      "\n",
      "\n",
      "Error obteniendo el 2022-06-01T00:00 del canal HHN de la estacion VMM11: No data available for request.\n",
      "HTTP Status code: 204\n",
      "Detailed response of server:\n",
      "\n",
      "\n",
      "Error obteniendo el 2022-06-01T00:00 del canal HHE de la estacion VMM11: No data available for request.\n",
      "HTTP Status code: 204\n",
      "Detailed response of server:\n",
      "\n",
      "\n",
      "Error obteniendo el 2022-06-01T00:00 del canal HHZ de la estacion VMM11: No data available for request.\n",
      "HTTP Status code: 204\n",
      "Detailed response of server:\n",
      "\n",
      "\n",
      "Error obteniendo el 2022-06-01T00:00 del canal HHN de la estacion VMM12: No data available for request.\n",
      "HTTP Status code: 204\n",
      "Detailed response of server:\n",
      "\n",
      "\n",
      "Error obteniendo el 2022-06-01T00:00 del canal HHE de la estacion VMM12: No data available for request.\n",
      "HTTP Status code: 204\n",
      "Detailed response of server:\n",
      "\n",
      "\n",
      "Error obteniendo el 2022-06-01T00:00 del canal HHZ de la estacion VMM12: No data available for request.\n",
      "HTTP Status code: 204\n",
      "Detailed response of server:\n",
      "\n",
      "\n",
      "12 Trace(s) in Stream:\n",
      "CM.ZAR.00.HHN | 2022-05-31T23:59:59.998393Z - 2022-06-01T00:03:59.998393Z | 100.0 Hz, 24001 samples\n",
      "CM.ZAR.00.HHE | 2022-05-31T23:59:59.998393Z - 2022-06-01T00:03:59.998393Z | 100.0 Hz, 24001 samples\n",
      "CM.ZAR.00.HHZ | 2022-05-31T23:59:59.998393Z - 2022-06-01T00:03:59.998393Z | 100.0 Hz, 24001 samples\n",
      "CM.PTB.00.HHN | 2022-05-31T23:59:59.998393Z - 2022-06-01T00:03:59.998393Z | 100.0 Hz, 24001 samples\n",
      "CM.PTB.00.HHE | 2022-05-31T23:59:59.998393Z - 2022-06-01T00:03:59.998393Z | 100.0 Hz, 24001 samples\n",
      "CM.PTB.00.HHZ | 2022-05-31T23:59:59.998391Z - 2022-06-01T00:03:59.998391Z | 100.0 Hz, 24001 samples\n",
      "CM.OCA.00.HHN | 2022-05-31T23:59:59.998393Z - 2022-06-01T00:03:59.998393Z | 100.0 Hz, 24001 samples\n",
      "CM.OCA.00.HHN | 2022-05-31T23:59:59.998393Z - 2022-06-01T00:03:59.998393Z | 100.0 Hz, 24001 samples\n",
      "CM.OCA.00.HHE | 2022-05-31T23:59:59.998393Z - 2022-06-01T00:03:59.998393Z | 100.0 Hz, 24001 samples\n",
      "CM.OCA.00.HHE | 2022-05-31T23:59:59.998393Z - 2022-06-01T00:03:59.998393Z | 100.0 Hz, 24001 samples\n",
      "CM.OCA.00.HHZ | 2022-05-31T23:59:59.998393Z - 2022-06-01T00:03:59.998393Z | 100.0 Hz, 24001 samples\n",
      "CM.OCA.00.HHZ | 2022-05-31T23:59:59.998393Z - 2022-06-01T00:03:59.998393Z | 100.0 Hz, 24001 samples\n",
      "mseed del 2022-06-01T00:00 almacenado correctamente.\n"
     ]
    }
   ],
   "source": [
    "# Carga de Stream\n",
    "st = Stream()\n",
    "for sta in stations:\n",
    "    for cha in channels:\n",
    "        try:\n",
    "            st += clientCM.get_waveforms('CM', sta, '*', cha, dateStart, DateEnd)\n",
    "        except Exception as e:\n",
    "            print(\"Error obteniendo el \" + str(dateStart.strftime(\"%Y-%m-%dT%H:%M\")) + \" del canal \" + str(cha) + \" de la estacion \" + str(sta) + \": \" + str(e))\n",
    "\n",
    "# Impresion en consola\n",
    "print(st.__str__(extended=True))\n",
    "\n",
    "# Almacenado temporal\n",
    "try:\n",
    "    st.write(dirMseed, format=\"MSEED\")\n",
    "    print(\"mseed del \" + str(dateStart.strftime(\"%Y-%m-%dT%H:%M\")) + \" almacenado correctamente.\")\n",
    "except Exception as e:\n",
    "    print(\"Error almacenando el mseed del \" + str(dateStart.strftime(\"%Y-%m-%dT%H:%M\")) + \": \" + str(e))\n"
   ]
  },
  {
   "cell_type": "code",
   "execution_count": 7,
   "metadata": {},
   "outputs": [
    {
     "name": "stdout",
     "output_type": "stream",
     "text": [
      "RAW mseed del 2022-06-01T00:00 ploteado correctamente.\n"
     ]
    }
   ],
   "source": [
    "# Plot RAW\n",
    "rawName = network + \"_\" + dateStart.strftime(\"%Y-%m-%dT%H-%M\") + \"_RAW.png\"\n",
    "dirRaw = os.path.join(dirPath, dirResultado, rawName)\n",
    "\n",
    "# Seleccion de componente\n",
    "#st = st.select(component=\"Z\")\n",
    "\n",
    "try:\n",
    "    st.plot(method='full', equal_scale=False, outfile=dirRaw)\n",
    "    print(\"RAW mseed del \" + str(dateStart.strftime(\"%Y-%m-%dT%H:%M\")) + \" ploteado correctamente.\")\n",
    "except Exception as e:\n",
    "    print(\"Error ploteando el RAW mseed del \" + str(dateStart.strftime(\"%Y-%m-%dT%H:%M\")) + \": \" + str(e))"
   ]
  },
  {
   "cell_type": "code",
   "execution_count": 8,
   "metadata": {},
   "outputs": [
    {
     "name": "stdout",
     "output_type": "stream",
     "text": [
      "DETREND mseed del 2022-06-01T00:00 ploteado correctamente.\n"
     ]
    }
   ],
   "source": [
    "# Plot DETREND\n",
    "detName = network + \"_\" + dateStart.strftime(\"%Y-%m-%dT%H-%M\") + \"_DET.png\"\n",
    "dirDet = os.path.join(dirPath, dirResultado, detName)\n",
    "\n",
    "try:\n",
    "    st.detrend()\n",
    "    st.plot(method='full', equal_scale=False, outfile=dirDet)\n",
    "    print(\"DETREND mseed del \" + str(dateStart.strftime(\"%Y-%m-%dT%H:%M\")) + \" ploteado correctamente.\")\n",
    "except Exception as e:\n",
    "    print(\"Error ploteando el DETREND del \" + str(dateStart.strftime(\"%Y-%m-%dT%H:%M\")) + \": \" + str(e))"
   ]
  },
  {
   "cell_type": "code",
   "execution_count": 9,
   "metadata": {},
   "outputs": [
    {
     "name": "stdout",
     "output_type": "stream",
     "text": [
      "FILTRAO mseed del 2022-06-01T00:00 ploteado correctamente.\n"
     ]
    }
   ],
   "source": [
    "# Plot FILTRO\n",
    "filName = network + \"_\" + dateStart.strftime(\"%Y-%m-%dT%H-%M\") + \"_FIL.png\"\n",
    "dirFil = os.path.join(dirPath, dirResultado, filName)\n",
    "\n",
    "try:\n",
    "    st.filter(\"bandpass\", freqmin=1, freqmax=10, corners=2, zerophase=True)\n",
    "    st.plot(method='full', equal_scale=False, outfile=dirFil)\n",
    "    print(\"FILTRAO mseed del \" + str(dateStart.strftime(\"%Y-%m-%dT%H:%M\")) + \" ploteado correctamente.\")\n",
    "except Exception as e:\n",
    "    print(\"Error ploteando el FILTRADO del \" + str(dateStart.strftime(\"%Y-%m-%dT%H:%M\")) + \": \" + str(e))"
   ]
  },
  {
   "cell_type": "code",
   "execution_count": 10,
   "metadata": {},
   "outputs": [
    {
     "name": "stdout",
     "output_type": "stream",
     "text": [
      "RESPUESTA INSTRUMENTAL mseed del 2022-06-01T00:00 ploteado correctamente.\n"
     ]
    }
   ],
   "source": [
    "# Plot RESPUESTA INSTRUMENTAL\n",
    "RIName = network + \"_\" + dateStart.strftime(\"%Y-%m-%dT%H-%M\") + \"_RI.png\"\n",
    "dirRI = os.path.join(dirPath, dirResultado, RIName)\n",
    "\n",
    "try:\n",
    "    st.remove_response(inventory=inv, output=\"DEF\", water_level=60, fig=dirRI)\n",
    "    print(\"RESPUESTA INSTRUMENTAL mseed del \" + str(dateStart.strftime(\"%Y-%m-%dT%H:%M\")) + \" ploteado correctamente.\")\n",
    "except Exception as e:\n",
    "    print(\"Error ploteando LA RESPUESTA INSTRUMENTAL del \" + str(dateStart.strftime(\"%Y-%m-%dT%H:%M\")) + \": \" + str(e))"
   ]
  },
  {
   "cell_type": "code",
   "execution_count": 11,
   "metadata": {},
   "outputs": [
    {
     "name": "stdout",
     "output_type": "stream",
     "text": [
      "Trazas del 2022-06-01T00:00 unidas correctamente.\n"
     ]
    }
   ],
   "source": [
    "# Plot MERGE\n",
    "MerName = network + \"_\" + dateStart.strftime(\"%Y-%m-%dT%H-%M\") + \"_MER.png\"\n",
    "dirMer = os.path.join(dirPath, dirResultado, MerName)\n",
    "\n",
    "\n",
    "try:\n",
    "    st.merge(method=1, fill_value='interpolate', interpolation_samples=-1)\n",
    "    st.plot(method='full', equal_scale=False, outfile=dirMer)\n",
    "    print(\"Trazas del \" + str(dateStart.strftime(\"%Y-%m-%dT%H:%M\")) + \" unidas correctamente.\")\n",
    "except Exception as e:\n",
    "    print(\"Error unindo las trazas del \" + str(dateStart.strftime(\"%Y-%m-%dT%H:%M\")) + \": \" + str(e))"
   ]
  },
  {
   "cell_type": "code",
   "execution_count": 12,
   "metadata": {},
   "outputs": [
    {
     "name": "stdout",
     "output_type": "stream",
     "text": [
      "NORMALIZADO mseed del 2022-06-01T00:00 ploteado correctamente.\n"
     ]
    }
   ],
   "source": [
    "# Plot NORMALIZADO\n",
    "norName = network + \"_\" + dateStart.strftime(\"%Y-%m-%dT%H-%M\") + \"_NOR.png\"\n",
    "dirNor = os.path.join(dirPath, dirResultado, norName)\n",
    "\n",
    "try:\n",
    "    st.normalize(global_max=False) \n",
    "    st.plot(method='full', equal_scale=False, outfile=dirNor)\n",
    "    print(\"NORMALIZADO mseed del \" + str(dateStart.strftime(\"%Y-%m-%dT%H:%M\")) + \" ploteado correctamente.\")\n",
    "except Exception as e:\n",
    "    print(\"Error ploteando el NORMALIZADO del \" + str(dateStart.strftime(\"%Y-%m-%dT%H:%M\")) + \": \" + str(e))\n"
   ]
  },
  {
   "cell_type": "code",
   "execution_count": 15,
   "metadata": {},
   "outputs": [
    {
     "name": "stdout",
     "output_type": "stream",
     "text": [
      "COMPONENTE Z mseed del 2022-06-01T00:00 ploteado correctamente.\n"
     ]
    }
   ],
   "source": [
    "# Plot COMPONENTE Z\n",
    "zName = network + \"_\" + dateStart.strftime(\"%Y-%m-%dT%H-%M\") + \"_Z.png\"\n",
    "dirZ = os.path.join(dirPath, dirResultado, zName)\n",
    "\n",
    "try:\n",
    "    st2 = st.select(component=\"Z\")\n",
    "    st2.plot(method='full', equal_scale=False, outfile=dirZ)\n",
    "    print(\"COMPONENTE Z mseed del \" + str(dateStart.strftime(\"%Y-%m-%dT%H:%M\")) + \" ploteado correctamente.\")\n",
    "except Exception as e:\n",
    "    print(\"Error ploteando el COMPONENTE Z del \" + str(dateStart.strftime(\"%Y-%m-%dT%H:%M\")) + \": \" + str(e))"
   ]
  },
  {
   "cell_type": "code",
   "execution_count": 43,
   "metadata": {},
   "outputs": [
    {
     "name": "stdout",
     "output_type": "stream",
     "text": [
      "_CORR_OCA-OCA del 2022-06-01T00:00 ploteado correctamente.\n",
      "_CORR_OCA-PTB del 2022-06-01T00:00 ploteado correctamente.\n",
      "_CORR_OCA-ZAR del 2022-06-01T00:00 ploteado correctamente.\n",
      "_CORR_PTB-OCA del 2022-06-01T00:00 ploteado correctamente.\n",
      "_CORR_PTB-PTB del 2022-06-01T00:00 ploteado correctamente.\n",
      "_CORR_PTB-ZAR del 2022-06-01T00:00 ploteado correctamente.\n",
      "_CORR_ZAR-OCA del 2022-06-01T00:00 ploteado correctamente.\n",
      "_CORR_ZAR-PTB del 2022-06-01T00:00 ploteado correctamente.\n",
      "_CORR_ZAR-ZAR del 2022-06-01T00:00 ploteado correctamente.\n"
     ]
    },
    {
     "data": {
      "image/png": "[encoded data removed]",
      "text/plain": [
       "<Figure size 432x288 with 2 Axes>"
      ]
     },
     "metadata": {
      "needs_background": "light"
     },
     "output_type": "display_data"
    }
   ],
   "source": [
    "# CORRELACION CRUZADA (xcorr)\n",
    "maxlag = 10\n",
    "\n",
    "for tr1 in st2:\n",
    "    a = tr1.data\n",
    "    aName = tr1.id\n",
    "    \n",
    "    for tr2 in st2:\n",
    "        b = tr2.data\n",
    "        bName = tr2.id\n",
    "        \n",
    "        corrName = network + \"_\" + dateStart.strftime(\"%Y-%m-%dT%H-%M\") + \"_CORR_\" + aName[3:-7] + \"-\" + bName[3:-7] + \".png\"\n",
    "        dirCORR = os.path.join(dirPath, dirResultado, corrName)\n",
    "        \n",
    "        try:\n",
    "            cc1 = correlate_maxlag(a, b, maxlag)\n",
    "\n",
    "            grid = plt.GridSpec(2, 1, wspace=0.4, hspace=0.3)\n",
    "            ax1 = plt.subplot(grid[0, 0])\n",
    "            ax2 = plt.subplot(grid[1, 0])\n",
    "            ax1.plot(np.arange(len(a)), a, label='signal {}'.format(aName))\n",
    "            ax1.plot(np.arange(len(b)), b, label='signal {}'.format(bName))\n",
    "            ax2.plot(get_lags(cc1), cc1)\n",
    "            ax1.legend(loc=3)\n",
    "            kw = dict(xy=(0.05, 0.95), xycoords='axes fraction', va='top')\n",
    "            ax2.annotate('correlate_maxlag(a, b, {})'.format(maxlag), **kw)\n",
    "            plt.savefig(dirCORR)\n",
    "            \n",
    "            print(\"_CORR_\" + aName[3:-7] + \"-\" + bName[3:-7] + \" del \" + str(dateStart.strftime(\"%Y-%m-%dT%H:%M\")) + \" ploteado correctamente.\")\n",
    "        except Exception as e:\n",
    "            print(\"Error ploteando _CORR_\" + aName[3:-7] + \"-\" + bName[3:-7] + \" del \" + str(dateStart.strftime(\"%Y-%m-%dT%H:%M\")) + \": \" + str(e))\n"
   ]
  },
  {
   "cell_type": "code",
   "execution_count": null,
   "metadata": {},
   "outputs": [],
   "source": [
    "#df = st[1].stats.sampling_rate\n",
    "#cft = z_detect(st[1].data, int(10 * df))\n",
    "#plot_trigger(st[1], cft, 0.5, 0.5)"
   ]
  }
 ],
 "metadata": {
  "interpreter": {
   "hash": "12fbad086ba6a91415da45170306c42e792b2b1882089105f6a0d3575216a366"
  },
  "kernelspec": {
   "display_name": "Python 3.9.12 ('obspy')",
   "language": "python",
   "name": "python3"
  },
  "language_info": {
   "codemirror_mode": {
    "name": "ipython",
    "version": 3
   },
   "file_extension": ".py",
   "mimetype": "text/x-python",
   "name": "python",
   "nbconvert_exporter": "python",
   "pygments_lexer": "ipython3",
   "version": "3.9.12"
  },
  "orig_nbformat": 4
 },
 "nbformat": 4,
 "nbformat_minor": 2
}
